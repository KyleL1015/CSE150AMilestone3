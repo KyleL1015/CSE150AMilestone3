{
  "cells": [
    {
      "cell_type": "markdown",
      "metadata": {},
      "source": [
        "# CSE150A Milestone 3: Multinomial HMM for Weather Prediction"
      ]
    },
    {
      "cell_type": "markdown",
      "metadata": {},
      "source": [
        "## Importing and Preprocessing Data"
      ]
    },
    {
      "cell_type": "code",
      "execution_count": 20,
      "metadata": {
        "id": "PgRxL1RzV4_P"
      },
      "outputs": [],
      "source": [
        "import pandas as pd\n",
        "import numpy as np\n",
        "from hmmlearn import hmm\n",
        "from sklearn.model_selection import train_test_split\n",
        "from sklearn.metrics import accuracy_score, confusion_matrix\n",
        "\n",
        "df = pd.read_csv('seattle-weather.csv')"
      ]
    },
    {
      "cell_type": "code",
      "execution_count": 21,
      "metadata": {
        "id": "tuTIueMWWOuf"
      },
      "outputs": [
        {
          "name": "stdout",
          "output_type": "stream",
          "text": [
            "date              object\n",
            "precipitation    float64\n",
            "temp_max         float64\n",
            "temp_min         float64\n",
            "wind             float64\n",
            "weather           object\n",
            "precip_cat         int32\n",
            "temp_max_cat       int32\n",
            "temp_min_cat       int32\n",
            "wind_cat           int32\n",
            "dtype: object\n"
          ]
        }
      ],
      "source": [
        "def discretize_precipitation(p):\n",
        "    if p == 0: return 0 #'none' or no precipitation\n",
        "    elif p <= 5: return 1 #'light' or light precipitation\n",
        "    else: return 2 #'heavy' or heavy precipitation\n",
        "\n",
        "def discretize_temp(t):\n",
        "    if t <= 0: return 0 #'freezing' or below freezing temps\n",
        "    elif t <= 5: return 1 #'cold' or very cold temps\n",
        "    elif t <= 15: return 2 #'cool' or cool temps\n",
        "    else: return 3 #'warm' or warm/hot temps\n",
        "\n",
        "def discretize_wind(w):\n",
        "    if w <= 2: return 0 #'calm' or calm winds\n",
        "    elif w <= 5: return 1 #'moderate' or moderate winds\n",
        "    else: return 2 #'strong' or strong winds\n",
        "\n",
        "df['precip_cat'] = df['precipitation'].apply(discretize_precipitation)\n",
        "df['temp_max_cat'] = df['temp_max'].apply(discretize_temp)\n",
        "df['temp_min_cat'] = df['temp_min'].apply(discretize_temp)\n",
        "df['wind_cat'] = df['wind'].apply(discretize_wind)\n",
        "\n",
        "#make sure types are all ints\n",
        "df['precip_cat'] = df['precip_cat'].astype(int)\n",
        "df['temp_max_cat'] = df['temp_max_cat'].astype(int)\n",
        "df['temp_min_cat'] = df['temp_min_cat'].astype(int)\n",
        "df['wind_cat'] = df['wind_cat'].astype(int)\n",
        "print(df.dtypes)"
      ]
    },
    {
      "cell_type": "code",
      "execution_count": 13,
      "metadata": {
        "colab": {
          "base_uri": "https://localhost:8080/",
          "height": 206
        },
        "id": "IR6Y5Qt0WTCn",
        "outputId": "8b09511e-6b97-4189-8466-4ded1c693caa"
      },
      "outputs": [
        {
          "data": {
            "text/html": [
              "<div>\n",
              "<style scoped>\n",
              "    .dataframe tbody tr th:only-of-type {\n",
              "        vertical-align: middle;\n",
              "    }\n",
              "\n",
              "    .dataframe tbody tr th {\n",
              "        vertical-align: top;\n",
              "    }\n",
              "\n",
              "    .dataframe thead th {\n",
              "        text-align: right;\n",
              "    }\n",
              "</style>\n",
              "<table border=\"1\" class=\"dataframe\">\n",
              "  <thead>\n",
              "    <tr style=\"text-align: right;\">\n",
              "      <th></th>\n",
              "      <th>date</th>\n",
              "      <th>precipitation</th>\n",
              "      <th>temp_max</th>\n",
              "      <th>temp_min</th>\n",
              "      <th>wind</th>\n",
              "      <th>weather</th>\n",
              "      <th>precip_cat</th>\n",
              "      <th>temp_max_cat</th>\n",
              "      <th>temp_min_cat</th>\n",
              "      <th>wind_cat</th>\n",
              "    </tr>\n",
              "  </thead>\n",
              "  <tbody>\n",
              "    <tr>\n",
              "      <th>0</th>\n",
              "      <td>2012-01-01</td>\n",
              "      <td>0.0</td>\n",
              "      <td>12.8</td>\n",
              "      <td>5.0</td>\n",
              "      <td>4.7</td>\n",
              "      <td>drizzle</td>\n",
              "      <td>0</td>\n",
              "      <td>2</td>\n",
              "      <td>1</td>\n",
              "      <td>1</td>\n",
              "    </tr>\n",
              "    <tr>\n",
              "      <th>1</th>\n",
              "      <td>2012-01-02</td>\n",
              "      <td>10.9</td>\n",
              "      <td>10.6</td>\n",
              "      <td>2.8</td>\n",
              "      <td>4.5</td>\n",
              "      <td>rain</td>\n",
              "      <td>2</td>\n",
              "      <td>2</td>\n",
              "      <td>1</td>\n",
              "      <td>1</td>\n",
              "    </tr>\n",
              "    <tr>\n",
              "      <th>2</th>\n",
              "      <td>2012-01-03</td>\n",
              "      <td>0.8</td>\n",
              "      <td>11.7</td>\n",
              "      <td>7.2</td>\n",
              "      <td>2.3</td>\n",
              "      <td>rain</td>\n",
              "      <td>1</td>\n",
              "      <td>2</td>\n",
              "      <td>2</td>\n",
              "      <td>1</td>\n",
              "    </tr>\n",
              "    <tr>\n",
              "      <th>3</th>\n",
              "      <td>2012-01-04</td>\n",
              "      <td>20.3</td>\n",
              "      <td>12.2</td>\n",
              "      <td>5.6</td>\n",
              "      <td>4.7</td>\n",
              "      <td>rain</td>\n",
              "      <td>2</td>\n",
              "      <td>2</td>\n",
              "      <td>2</td>\n",
              "      <td>1</td>\n",
              "    </tr>\n",
              "    <tr>\n",
              "      <th>4</th>\n",
              "      <td>2012-01-05</td>\n",
              "      <td>1.3</td>\n",
              "      <td>8.9</td>\n",
              "      <td>2.8</td>\n",
              "      <td>6.1</td>\n",
              "      <td>rain</td>\n",
              "      <td>1</td>\n",
              "      <td>2</td>\n",
              "      <td>1</td>\n",
              "      <td>2</td>\n",
              "    </tr>\n",
              "  </tbody>\n",
              "</table>\n",
              "</div>"
            ],
            "text/plain": [
              "         date  precipitation  temp_max  temp_min  wind  weather  precip_cat   \n",
              "0  2012-01-01            0.0      12.8       5.0   4.7  drizzle           0  \\\n",
              "1  2012-01-02           10.9      10.6       2.8   4.5     rain           2   \n",
              "2  2012-01-03            0.8      11.7       7.2   2.3     rain           1   \n",
              "3  2012-01-04           20.3      12.2       5.6   4.7     rain           2   \n",
              "4  2012-01-05            1.3       8.9       2.8   6.1     rain           1   \n",
              "\n",
              "   temp_max_cat  temp_min_cat  wind_cat  \n",
              "0             2             1         1  \n",
              "1             2             1         1  \n",
              "2             2             2         1  \n",
              "3             2             2         1  \n",
              "4             2             1         2  "
            ]
          },
          "execution_count": 13,
          "metadata": {},
          "output_type": "execute_result"
        }
      ],
      "source": [
        "df.head()"
      ]
    },
    {
      "cell_type": "code",
      "execution_count": 22,
      "metadata": {
        "id": "N-Z94q_0WTiN"
      },
      "outputs": [
        {
          "data": {
            "text/html": [
              "<div>\n",
              "<style scoped>\n",
              "    .dataframe tbody tr th:only-of-type {\n",
              "        vertical-align: middle;\n",
              "    }\n",
              "\n",
              "    .dataframe tbody tr th {\n",
              "        vertical-align: top;\n",
              "    }\n",
              "\n",
              "    .dataframe thead th {\n",
              "        text-align: right;\n",
              "    }\n",
              "</style>\n",
              "<table border=\"1\" class=\"dataframe\">\n",
              "  <thead>\n",
              "    <tr style=\"text-align: right;\">\n",
              "      <th></th>\n",
              "      <th>weather</th>\n",
              "      <th>precip_cat</th>\n",
              "      <th>temp_max_cat</th>\n",
              "      <th>temp_min_cat</th>\n",
              "      <th>wind_cat</th>\n",
              "    </tr>\n",
              "  </thead>\n",
              "  <tbody>\n",
              "    <tr>\n",
              "      <th>0</th>\n",
              "      <td>drizzle</td>\n",
              "      <td>0</td>\n",
              "      <td>2</td>\n",
              "      <td>1</td>\n",
              "      <td>1</td>\n",
              "    </tr>\n",
              "    <tr>\n",
              "      <th>1</th>\n",
              "      <td>rain</td>\n",
              "      <td>2</td>\n",
              "      <td>2</td>\n",
              "      <td>1</td>\n",
              "      <td>1</td>\n",
              "    </tr>\n",
              "    <tr>\n",
              "      <th>2</th>\n",
              "      <td>rain</td>\n",
              "      <td>1</td>\n",
              "      <td>2</td>\n",
              "      <td>2</td>\n",
              "      <td>1</td>\n",
              "    </tr>\n",
              "    <tr>\n",
              "      <th>3</th>\n",
              "      <td>rain</td>\n",
              "      <td>2</td>\n",
              "      <td>2</td>\n",
              "      <td>2</td>\n",
              "      <td>1</td>\n",
              "    </tr>\n",
              "    <tr>\n",
              "      <th>4</th>\n",
              "      <td>rain</td>\n",
              "      <td>1</td>\n",
              "      <td>2</td>\n",
              "      <td>1</td>\n",
              "      <td>2</td>\n",
              "    </tr>\n",
              "  </tbody>\n",
              "</table>\n",
              "</div>"
            ],
            "text/plain": [
              "   weather  precip_cat  temp_max_cat  temp_min_cat  wind_cat\n",
              "0  drizzle           0             2             1         1\n",
              "1     rain           2             2             1         1\n",
              "2     rain           1             2             2         1\n",
              "3     rain           2             2             2         1\n",
              "4     rain           1             2             1         2"
            ]
          },
          "execution_count": 22,
          "metadata": {},
          "output_type": "execute_result"
        }
      ],
      "source": [
        "#dropping the numerical values for precipitation, temp_max, temp_min, wind for easier processing\n",
        "df.drop(['precipitation', 'temp_max', 'temp_min', 'wind', 'date'], axis=1, inplace=True)\n",
        "df = df.dropna()\n",
        "df.head()"
      ]
    },
    {
      "cell_type": "code",
      "execution_count": 23,
      "metadata": {
        "id": "Qcs7Yj3AWwV9"
      },
      "outputs": [],
      "source": [
        "#getting the hidden states for this model (the weather)\n",
        "weather_states = df.weather.unique().tolist()\n",
        "#maps for evidence\n",
        "precip_map = {0: 'none', 1: 'light', 2: 'heavy'}\n",
        "temp_map = {0: 'freezing', 1: 'cold', 2: 'cool', 3: 'warm'}\n",
        "wind_map = {0: 'calm', 1: 'moderate', 2: 'strong'}"
      ]
    },
    {
      "cell_type": "code",
      "execution_count": 24,
      "metadata": {
        "colab": {
          "base_uri": "https://localhost:8080/"
        },
        "id": "whibhfLbXQxz",
        "outputId": "46554f1f-d2c4-4c20-af80-bc8bb03f8289"
      },
      "outputs": [
        {
          "data": {
            "text/plain": [
              "['drizzle', 'rain', 'sun', 'snow', 'fog']"
            ]
          },
          "execution_count": 24,
          "metadata": {},
          "output_type": "execute_result"
        }
      ],
      "source": [
        "weather_states"
      ]
    },
    {
      "cell_type": "markdown",
      "metadata": {},
      "source": [
        "## Model Training"
      ]
    },
    {
      "cell_type": "code",
      "execution_count": 25,
      "metadata": {},
      "outputs": [
        {
          "name": "stdout",
          "output_type": "stream",
          "text": [
            "[0 2 1]\n",
            "[2 1 0 3]\n",
            "[1 2 0 3]\n",
            "[1 2 0]\n"
          ]
        }
      ],
      "source": [
        "#discrete valeus check\n",
        "print(df['precip_cat'].unique())  # Should be [0, 1, 2]\n",
        "print(df['temp_max_cat'].unique())  # Should be [0, 1, 2, 3]\n",
        "print(df['temp_min_cat'].unique())  # Should be [0, 1, 2, 3]\n",
        "print(df['wind_cat'].unique())  # Should be [0, 1, 2]"
      ]
    },
    {
      "cell_type": "code",
      "execution_count": null,
      "metadata": {
        "id": "vDkPlmK1XtV6"
      },
      "outputs": [
        {
          "name": "stderr",
          "output_type": "stream",
          "text": [
            "MultinomialHMM has undergone major changes. The previous version was implementing a CategoricalHMM (a special case of MultinomialHMM). This new implementation follows the standard definition for a Multinomial distribution (e.g. as in https://en.wikipedia.org/wiki/Multinomial_distribution). See these issues for details:\n",
            "https://github.com/hmmlearn/hmmlearn/issues/335\n",
            "https://github.com/hmmlearn/hmmlearn/issues/340\n"
          ]
        },
        {
          "name": "stdout",
          "output_type": "stream",
          "text": [
            "(1461, 4) (1461,)\n",
            "Transition matrix:\n",
            "[[6.15926024e-04 1.18620455e-02 8.95351840e-03 1.10973991e-01\n",
            "  8.67594519e-01]\n",
            " [1.03239144e-02 3.65660883e-06 2.57050518e-04 6.04546310e-01\n",
            "  3.84869068e-01]\n",
            " [1.42499130e-01 2.11023830e-01 4.68028631e-04 6.43482818e-01\n",
            "  2.52619269e-03]\n",
            " [1.38623926e-01 6.36224606e-01 1.20615037e-01 1.15927720e-07\n",
            "  1.04536315e-01]\n",
            " [6.57082872e-01 3.28314482e-01 1.01156917e-02 1.22939995e-03\n",
            "  3.25755404e-03]]\n",
            "Emission matrix:\n",
            "[[0.12930743 0.41565063 0.29015356 0.16488838]\n",
            " [0.07776006 0.45095134 0.31251133 0.15877727]\n",
            " [0.12961676 0.41499535 0.29077474 0.16461315]\n",
            " [0.10096291 0.4348209  0.30320019 0.161016  ]\n",
            " [0.1131617  0.42659518 0.29715781 0.16308531]]\n"
          ]
        }
      ],
      "source": [
        "# Code written colaboratively and taken from Chat GPT-4o\n",
        "#Get a single feature vector and reshape\n",
        "X = df[['precip_cat', 'temp_max_cat', 'temp_min_cat', 'wind_cat']].values #observation vector\n",
        "Y = df['weather'].values\n",
        "\n",
        "df.drop(['weather'], axis = 1, inplace = True)\n",
        "\n",
        "#split training and test data\n",
        "X_train, X_test ,Y_train, Y_test = train_test_split(X, Y, test_size = 0.2, random_state = 42)\n",
        "\n",
        "model = hmm.MultinomialHMM(n_components = 5, n_iter = 1000)\n",
        "model.fit(X_train)\n",
        "\n",
        "# Predict hidden states for the test set\n",
        "predicted_states = model.predict(X_test)\n",
        "\n",
        "# To see the learned parameters (emission and transition probabilities)\n",
        "print(\"Transition matrix:\")\n",
        "print(model.transmat_)\n",
        "\n",
        "print(\"Emission matrix:\")\n",
        "print(model.emissionprob_)"
      ]
    },
    {
      "cell_type": "code",
      "execution_count": null,
      "metadata": {},
      "outputs": [],
      "source": []
    }
  ],
  "metadata": {
    "colab": {
      "authorship_tag": "ABX9TyPVmzQV2X7PHIa0CnJipai2",
      "provenance": []
    },
    "kernelspec": {
      "display_name": "tensorflow",
      "language": "python",
      "name": "python3"
    },
    "language_info": {
      "codemirror_mode": {
        "name": "ipython",
        "version": 3
      },
      "file_extension": ".py",
      "mimetype": "text/x-python",
      "name": "python",
      "nbconvert_exporter": "python",
      "pygments_lexer": "ipython3",
      "version": "3.9.16"
    }
  },
  "nbformat": 4,
  "nbformat_minor": 0
}
