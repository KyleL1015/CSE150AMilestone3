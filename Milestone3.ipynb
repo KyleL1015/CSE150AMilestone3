{
  "cells": [
    {
      "cell_type": "markdown",
      "metadata": {},
      "source": [
        "# CSE150A Milestone 3: Multinomial HMM for Weather Prediction"
      ]
    },
    {
      "cell_type": "markdown",
      "metadata": {},
      "source": [
        "## Importing and Preprocessing Data"
      ]
    },
    {
      "cell_type": "code",
      "execution_count": null,
      "metadata": {
        "id": "PgRxL1RzV4_P"
      },
      "outputs": [],
      "source": [
        "import pandas as pd\n",
        "import numpy as np\n",
        "from hmmlearn import hmm\n",
        "from sklearn.model_selection import train_test_split\n",
        "from sklearn.metrics import accuracy_score, confusion_matrix\n",
        "\n",
        "df = pd.read_csv('seattle-weather.csv')"
      ]
    },
    {
      "cell_type": "code",
      "execution_count": null,
      "metadata": {
        "id": "tuTIueMWWOuf"
      },
      "outputs": [],
      "source": [
        "def discretize_precipitation(p):\n",
        "    if p == 0: return 0 #'none' or no precipitation\n",
        "    elif p <= 5: return 1 #'light' or light precipitation\n",
        "    else: return 2 #'heavy' or heavy precipitation\n",
        "\n",
        "def discretize_temp(t):\n",
        "    if t <= 0: return 0 #'freezing' or below freezing temps\n",
        "    elif t <= 5: return 1 #'cold' or very cold temps\n",
        "    elif t <= 15: return 2 #'cool' or cool temps\n",
        "    else: return 3 #'warm' or warm/hot temps\n",
        "\n",
        "def discretize_wind(w):\n",
        "    if w <= 2: return 0 #'calm' or calm winds\n",
        "    elif w <= 5: return 1 #'moderate' or moderate winds\n",
        "    else: return 2 #'strong' or strong winds\n",
        "\n",
        "def discretize_weather(w):\n",
        "    if w == 'drizzle': return 0\n",
        "    elif w == 'rain': return 1\n",
        "    elif w == 'sun': return 2\n",
        "    elif w == 'snow': return 3\n",
        "    elif w == 'fog': return 4\n",
        "\n",
        "df['precip_cat'] = df['precipitation'].apply(discretize_precipitation)\n",
        "df['temp_max_cat'] = df['temp_max'].apply(discretize_temp)\n",
        "df['temp_min_cat'] = df['temp_min'].apply(discretize_temp)\n",
        "df['wind_cat'] = df['wind'].apply(discretize_wind)\n",
        "df['weather_cat'] = df['weather'].apply(discretize_weather)\n",
        "\n",
        "#make sure types are all ints\n",
        "df['precip_cat'] = df['precip_cat'].astype(int)\n",
        "df['temp_max_cat'] = df['temp_max_cat'].astype(int)\n",
        "df['temp_min_cat'] = df['temp_min_cat'].astype(int)\n",
        "df['wind_cat'] = df['wind_cat'].astype(int)\n",
        "df['weather_cat'] = df['weather_cat'].astype(int)\n",
        "print(df.dtypes)"
      ]
    },
    {
      "cell_type": "code",
      "execution_count": null,
      "metadata": {
        "colab": {
          "base_uri": "https://localhost:8080/",
          "height": 206
        },
        "id": "IR6Y5Qt0WTCn",
        "outputId": "8b09511e-6b97-4189-8466-4ded1c693caa"
      },
      "outputs": [],
      "source": [
        "df.head()"
      ]
    },
    {
      "cell_type": "code",
      "execution_count": null,
      "metadata": {
        "id": "N-Z94q_0WTiN"
      },
      "outputs": [],
      "source": [
        "#dropping the numerical values for precipitation, temp_max, temp_min, wind for easier processing\n",
        "df.drop(['precipitation', 'temp_max', 'temp_min', 'wind', 'date', 'weather'], axis=1, inplace=True)\n",
        "df = df.dropna()\n",
        "df.head()"
      ]
    },
    {
      "cell_type": "code",
      "execution_count": null,
      "metadata": {
        "id": "Qcs7Yj3AWwV9"
      },
      "outputs": [],
      "source": [
        "#getting the hidden states for this model (the weather)\n",
        "#weather_states = df.weather.unique().tolist()\n",
        "\n",
        "#discrete values check\n",
        "print(df['precip_cat'].unique())  # Should be [0, 1, 2]\n",
        "print(df['temp_max_cat'].unique())  # Should be [0, 1, 2, 3]\n",
        "print(df['temp_min_cat'].unique())  # Should be [0, 1, 2, 3]\n",
        "print(df['wind_cat'].unique())  # Should be [0, 1, 2]\n",
        "print(df['weather_cat'].unique())  # Should be [0, 1, 2, 3, 4]\n",
        "\n",
        "#maps for evidence\n",
        "precip_map = {0: 'none', 1: 'light', 2: 'heavy'}\n",
        "temp_map = {0: 'freezing', 1: 'cold', 2: 'cool', 3: 'warm'}\n",
        "wind_map = {0: 'calm', 1: 'moderate', 2: 'strong'}\n",
        "\n",
        "#map for weather\n",
        "weather_map = {0: 'drizzle', 1: 'rain', 2: 'sun', 3: 'snow', 4: 'fog'}"
      ]
    },
    {
      "cell_type": "markdown",
      "metadata": {},
      "source": [
        "## Model Training"
      ]
    },
    {
      "cell_type": "code",
      "execution_count": null,
      "metadata": {
        "id": "vDkPlmK1XtV6"
      },
      "outputs": [],
      "source": [
        "# Code written colaboratively and taken from Chat GPT-4o\n",
        "#Get a single feature vector and reshape\n",
        "X = df[['precip_cat', 'temp_max_cat', 'temp_min_cat', 'wind_cat']].values #observation vector\n",
        "Y = df['weather_cat'].values\n",
        "\n",
        "#df.drop(['weather_cat'], axis = 1, inplace = True)\n",
        "\n",
        "#split training and test data\n",
        "X_train, X_test ,Y_train, Y_test = train_test_split(X, Y, test_size = 0.2, random_state = 42)\n",
        "\n",
        "model = hmm.MultinomialHMM(n_components = 5, n_iter = 1000)\n",
        "model.fit(X_train)\n",
        "\n",
        "# Predict hidden states for the test set\n",
        "predicted_states_train = model.predict(X_train)\n",
        "\n",
        "# To see the learned parameters (emission and transition probabilities)\n",
        "print(\"Transition matrix:\")\n",
        "print(model.transmat_)\n",
        "\n",
        "print(\"Emission matrix:\")\n",
        "print(model.emissionprob_)"
      ]
    },
    {
      "cell_type": "code",
      "execution_count": null,
      "metadata": {},
      "outputs": [],
      "source": [
        "#Compute the confusion matrix for training data\n",
        "conf_matrix_train = confusion_matrix(Y_train, predicted_states_train)\n",
        "\n",
        "#Compute accuracy score for training data\n",
        "accuracy_train = accuracy_score(Y_train, predicted_states_train)\n",
        "\n",
        "print(\"Confusion Matrix:\\n\", conf_matrix_train)\n",
        "print(\"\\nAccuracy Score:\", accuracy_train)"
      ]
    },
    {
      "cell_type": "markdown",
      "metadata": {},
      "source": [
        "## Model Testing"
      ]
    },
    {
      "cell_type": "code",
      "execution_count": null,
      "metadata": {},
      "outputs": [],
      "source": [
        "#Now use the model on the test set\n",
        "predicted_states_train = model.predict(X_test)\n",
        "\n",
        "#Compute the confusion matrix for training data\n",
        "conf_matrix_test = confusion_matrix(Y_test, predicted_states_train)\n",
        "\n",
        "#Compute accuracy score for training data\n",
        "accuracy_test = accuracy_score(Y_test, predicted_states_train)\n",
        "\n",
        "print(\"Confusion Matrix:\\n\", conf_matrix_test)\n",
        "print(\"\\nAccuracy Score:\", accuracy_test)"
      ]
    },
    {
      "cell_type": "code",
      "execution_count": null,
      "metadata": {},
      "outputs": [],
      "source": []
    }
  ],
  "metadata": {
    "colab": {
      "authorship_tag": "ABX9TyPVmzQV2X7PHIa0CnJipai2",
      "provenance": []
    },
    "kernelspec": {
      "display_name": "tensorflow",
      "language": "python",
      "name": "python3"
    },
    "language_info": {
      "codemirror_mode": {
        "name": "ipython",
        "version": 3
      },
      "file_extension": ".py",
      "mimetype": "text/x-python",
      "name": "python",
      "nbconvert_exporter": "python",
      "pygments_lexer": "ipython3",
      "version": "3.9.16"
    }
  },
  "nbformat": 4,
  "nbformat_minor": 0
}
