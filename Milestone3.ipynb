{
  "cells": [
    {
      "cell_type": "markdown",
      "metadata": {},
      "source": [
        "# CSE150A Milestone 3: Multinomial HMM for Weather Prediction"
      ]
    },
    {
      "cell_type": "markdown",
      "metadata": {},
      "source": [
        "## Importing and Preprocessing Data"
      ]
    },
    {
      "cell_type": "code",
      "execution_count": 1,
      "metadata": {
        "id": "PgRxL1RzV4_P"
      },
      "outputs": [],
      "source": [
        "import pandas as pd\n",
        "import numpy as np\n",
        "from hmmlearn import hmm\n",
        "from hmmlearn.hmm import GaussianHMM\n",
        "from sklearn.model_selection import train_test_split\n",
        "from sklearn.metrics import accuracy_score, confusion_matrix\n",
        "from scipy.stats import mode\n",
        "\n",
        "df = pd.read_csv('seattle-weather.csv')"
      ]
    },
    {
      "cell_type": "code",
      "execution_count": null,
      "metadata": {
        "id": "tuTIueMWWOuf"
      },
      "outputs": [
        {
          "name": "stdout",
          "output_type": "stream",
          "text": [
            "date              object\n",
            "precipitation    float64\n",
            "temp_max         float64\n",
            "temp_min         float64\n",
            "wind             float64\n",
            "weather           object\n",
            "weather_cat        int32\n",
            "dtype: object\n"
          ]
        }
      ],
      "source": [
        "#Discretize weather\n",
        "def discretize_weather(w):\n",
        "    if w == 'drizzle': return 0\n",
        "    elif w == 'rain': return 1\n",
        "    elif w == 'sun': return 2\n",
        "    elif w == 'snow': return 3\n",
        "    elif w == 'fog': return 4\n",
        "\n",
        "df['weather_cat'] = df['weather'].apply(discretize_weather)\n",
        "\n",
        "#Make sure typing is correct\n",
        "df['weather_cat'] = df['weather_cat'].astype(int)\n",
        "print(df.dtypes)"
      ]
    },
    {
      "cell_type": "code",
      "execution_count": 3,
      "metadata": {
        "colab": {
          "base_uri": "https://localhost:8080/",
          "height": 206
        },
        "id": "IR6Y5Qt0WTCn",
        "outputId": "8b09511e-6b97-4189-8466-4ded1c693caa"
      },
      "outputs": [
        {
          "data": {
            "text/html": [
              "<div>\n",
              "<style scoped>\n",
              "    .dataframe tbody tr th:only-of-type {\n",
              "        vertical-align: middle;\n",
              "    }\n",
              "\n",
              "    .dataframe tbody tr th {\n",
              "        vertical-align: top;\n",
              "    }\n",
              "\n",
              "    .dataframe thead th {\n",
              "        text-align: right;\n",
              "    }\n",
              "</style>\n",
              "<table border=\"1\" class=\"dataframe\">\n",
              "  <thead>\n",
              "    <tr style=\"text-align: right;\">\n",
              "      <th></th>\n",
              "      <th>date</th>\n",
              "      <th>precipitation</th>\n",
              "      <th>temp_max</th>\n",
              "      <th>temp_min</th>\n",
              "      <th>wind</th>\n",
              "      <th>weather</th>\n",
              "      <th>weather_cat</th>\n",
              "    </tr>\n",
              "  </thead>\n",
              "  <tbody>\n",
              "    <tr>\n",
              "      <th>0</th>\n",
              "      <td>2012-01-01</td>\n",
              "      <td>0.0</td>\n",
              "      <td>12.8</td>\n",
              "      <td>5.0</td>\n",
              "      <td>4.7</td>\n",
              "      <td>drizzle</td>\n",
              "      <td>0</td>\n",
              "    </tr>\n",
              "    <tr>\n",
              "      <th>1</th>\n",
              "      <td>2012-01-02</td>\n",
              "      <td>10.9</td>\n",
              "      <td>10.6</td>\n",
              "      <td>2.8</td>\n",
              "      <td>4.5</td>\n",
              "      <td>rain</td>\n",
              "      <td>1</td>\n",
              "    </tr>\n",
              "    <tr>\n",
              "      <th>2</th>\n",
              "      <td>2012-01-03</td>\n",
              "      <td>0.8</td>\n",
              "      <td>11.7</td>\n",
              "      <td>7.2</td>\n",
              "      <td>2.3</td>\n",
              "      <td>rain</td>\n",
              "      <td>1</td>\n",
              "    </tr>\n",
              "    <tr>\n",
              "      <th>3</th>\n",
              "      <td>2012-01-04</td>\n",
              "      <td>20.3</td>\n",
              "      <td>12.2</td>\n",
              "      <td>5.6</td>\n",
              "      <td>4.7</td>\n",
              "      <td>rain</td>\n",
              "      <td>1</td>\n",
              "    </tr>\n",
              "    <tr>\n",
              "      <th>4</th>\n",
              "      <td>2012-01-05</td>\n",
              "      <td>1.3</td>\n",
              "      <td>8.9</td>\n",
              "      <td>2.8</td>\n",
              "      <td>6.1</td>\n",
              "      <td>rain</td>\n",
              "      <td>1</td>\n",
              "    </tr>\n",
              "  </tbody>\n",
              "</table>\n",
              "</div>"
            ],
            "text/plain": [
              "         date  precipitation  temp_max  temp_min  wind  weather  weather_cat\n",
              "0  2012-01-01            0.0      12.8       5.0   4.7  drizzle            0\n",
              "1  2012-01-02           10.9      10.6       2.8   4.5     rain            1\n",
              "2  2012-01-03            0.8      11.7       7.2   2.3     rain            1\n",
              "3  2012-01-04           20.3      12.2       5.6   4.7     rain            1\n",
              "4  2012-01-05            1.3       8.9       2.8   6.1     rain            1"
            ]
          },
          "execution_count": 3,
          "metadata": {},
          "output_type": "execute_result"
        }
      ],
      "source": [
        "df.head()"
      ]
    },
    {
      "cell_type": "code",
      "execution_count": null,
      "metadata": {
        "id": "N-Z94q_0WTiN"
      },
      "outputs": [
        {
          "data": {
            "text/html": [
              "<div>\n",
              "<style scoped>\n",
              "    .dataframe tbody tr th:only-of-type {\n",
              "        vertical-align: middle;\n",
              "    }\n",
              "\n",
              "    .dataframe tbody tr th {\n",
              "        vertical-align: top;\n",
              "    }\n",
              "\n",
              "    .dataframe thead th {\n",
              "        text-align: right;\n",
              "    }\n",
              "</style>\n",
              "<table border=\"1\" class=\"dataframe\">\n",
              "  <thead>\n",
              "    <tr style=\"text-align: right;\">\n",
              "      <th></th>\n",
              "      <th>precipitation</th>\n",
              "      <th>temp_max</th>\n",
              "      <th>temp_min</th>\n",
              "      <th>wind</th>\n",
              "      <th>weather_cat</th>\n",
              "    </tr>\n",
              "  </thead>\n",
              "  <tbody>\n",
              "    <tr>\n",
              "      <th>0</th>\n",
              "      <td>0.0</td>\n",
              "      <td>12.8</td>\n",
              "      <td>5.0</td>\n",
              "      <td>4.7</td>\n",
              "      <td>0</td>\n",
              "    </tr>\n",
              "    <tr>\n",
              "      <th>1</th>\n",
              "      <td>10.9</td>\n",
              "      <td>10.6</td>\n",
              "      <td>2.8</td>\n",
              "      <td>4.5</td>\n",
              "      <td>1</td>\n",
              "    </tr>\n",
              "    <tr>\n",
              "      <th>2</th>\n",
              "      <td>0.8</td>\n",
              "      <td>11.7</td>\n",
              "      <td>7.2</td>\n",
              "      <td>2.3</td>\n",
              "      <td>1</td>\n",
              "    </tr>\n",
              "    <tr>\n",
              "      <th>3</th>\n",
              "      <td>20.3</td>\n",
              "      <td>12.2</td>\n",
              "      <td>5.6</td>\n",
              "      <td>4.7</td>\n",
              "      <td>1</td>\n",
              "    </tr>\n",
              "    <tr>\n",
              "      <th>4</th>\n",
              "      <td>1.3</td>\n",
              "      <td>8.9</td>\n",
              "      <td>2.8</td>\n",
              "      <td>6.1</td>\n",
              "      <td>1</td>\n",
              "    </tr>\n",
              "  </tbody>\n",
              "</table>\n",
              "</div>"
            ],
            "text/plain": [
              "   precipitation  temp_max  temp_min  wind  weather_cat\n",
              "0            0.0      12.8       5.0   4.7            0\n",
              "1           10.9      10.6       2.8   4.5            1\n",
              "2            0.8      11.7       7.2   2.3            1\n",
              "3           20.3      12.2       5.6   4.7            1\n",
              "4            1.3       8.9       2.8   6.1            1"
            ]
          },
          "execution_count": 4,
          "metadata": {},
          "output_type": "execute_result"
        }
      ],
      "source": [
        "#Dropping the values for date and weather for easier processing\n",
        "df.drop(['date', 'weather'], axis=1, inplace=True)\n",
        "df = df.dropna()\n",
        "df.head()"
      ]
    },
    {
      "cell_type": "code",
      "execution_count": null,
      "metadata": {
        "id": "Qcs7Yj3AWwV9"
      },
      "outputs": [
        {
          "name": "stdout",
          "output_type": "stream",
          "text": [
            "[0 1 2 3 4]\n"
          ]
        }
      ],
      "source": [
        "#Discrete values check\n",
        "print(df['weather_cat'].unique())  # Should be [0, 1, 2, 3, 4]\n",
        "\n",
        "#Map for weather\n",
        "weather_map = {0: 'drizzle', 1: 'rain', 2: 'sun', 3: 'snow', 4: 'fog'}"
      ]
    },
    {
      "cell_type": "markdown",
      "metadata": {},
      "source": [
        "## Model Training"
      ]
    },
    {
      "cell_type": "code",
      "execution_count": null,
      "metadata": {},
      "outputs": [
        {
          "name": "stdout",
          "output_type": "stream",
          "text": [
            "Transition matrix:\n",
            " [[0.05510219 0.53292603 0.04089403 0.18085499 0.19022277]\n",
            " [0.09831059 0.5804644  0.07066919 0.14455087 0.10600494]\n",
            " [0.09462197 0.55322831 0.14306902 0.0923283  0.1167524 ]\n",
            " [0.0516527  0.60022603 0.07217913 0.13018346 0.14575868]\n",
            " [0.09072487 0.50737224 0.10178327 0.14914903 0.15097059]]\n",
            "\n",
            "Means of each state:\n",
            " [[ 0.70282944 15.89282016  8.95845593  2.70264821]\n",
            " [ 0.         18.9200033   8.89785086  2.8897002 ]\n",
            " [ 7.70438253 18.80732909 12.36302265  3.23241298]\n",
            " [12.30322033 12.73274697  7.49927518  4.50722918]\n",
            " [ 5.45222119  8.18068045  3.17131118  3.84787239]]\n",
            "\n",
            "Covariances:\n",
            " [[[1.78354027e-01 0.00000000e+00 0.00000000e+00 0.00000000e+00]\n",
            "  [0.00000000e+00 3.22997198e+01 0.00000000e+00 0.00000000e+00]\n",
            "  [0.00000000e+00 0.00000000e+00 1.66766187e+01 0.00000000e+00]\n",
            "  [0.00000000e+00 0.00000000e+00 0.00000000e+00 1.13606199e+00]]\n",
            "\n",
            " [[1.50671000e-05 0.00000000e+00 0.00000000e+00 0.00000000e+00]\n",
            "  [0.00000000e+00 5.97371383e+01 0.00000000e+00 0.00000000e+00]\n",
            "  [0.00000000e+00 0.00000000e+00 3.00021445e+01 0.00000000e+00]\n",
            "  [0.00000000e+00 0.00000000e+00 0.00000000e+00 1.35951383e+00]]\n",
            "\n",
            " [[5.19525334e+01 0.00000000e+00 0.00000000e+00 0.00000000e+00]\n",
            "  [0.00000000e+00 1.03611124e+01 0.00000000e+00 0.00000000e+00]\n",
            "  [0.00000000e+00 0.00000000e+00 5.61914352e+00 0.00000000e+00]\n",
            "  [0.00000000e+00 0.00000000e+00 0.00000000e+00 1.25178251e+00]]\n",
            "\n",
            " [[1.33950990e+02 0.00000000e+00 0.00000000e+00 0.00000000e+00]\n",
            "  [0.00000000e+00 3.54564212e+00 0.00000000e+00 0.00000000e+00]\n",
            "  [0.00000000e+00 0.00000000e+00 3.28091326e+00 0.00000000e+00]\n",
            "  [0.00000000e+00 0.00000000e+00 0.00000000e+00 2.37708618e+00]]\n",
            "\n",
            " [[2.08110523e+01 0.00000000e+00 0.00000000e+00 0.00000000e+00]\n",
            "  [0.00000000e+00 5.88035598e+00 0.00000000e+00 0.00000000e+00]\n",
            "  [0.00000000e+00 0.00000000e+00 5.17701498e+00 0.00000000e+00]\n",
            "  [0.00000000e+00 0.00000000e+00 0.00000000e+00 2.91328957e+00]]]\n"
          ]
        },
        {
          "name": "stderr",
          "output_type": "stream",
          "text": [
            "C:\\Users\\sword\\AppData\\Local\\Temp\\ipykernel_14988\\3379726859.py:25: FutureWarning: Unlike other reduction functions (e.g. `skew`, `kurtosis`), the default behavior of `mode` typically preserves the axis it acts along. In SciPy 1.11.0, this behavior will change: the default value of `keepdims` will become False, the `axis` over which the statistic is taken will be eliminated, and the value None will no longer be accepted. Set `keepdims` to True or False to avoid this warning.\n",
            "  state_to_label[state] = mode(Y_train[predicted_states_train == state]).mode[0]\n"
          ]
        }
      ],
      "source": [
        "#Get a single feature vector for obs/labels\n",
        "X = df[['precipitation', 'temp_max', 'temp_min', 'wind']].values #observations\n",
        "Y = df['weather_cat'].values\n",
        "\n",
        "#Split training and test data\n",
        "X_train, X_test ,Y_train, Y_test = train_test_split(X, Y, test_size = 0.2, random_state = 42)\n",
        "\n",
        "#Define and train the Gaussian HMM\n",
        "n_states = 5\n",
        "model = GaussianHMM(n_components=n_states, covariance_type=\"diag\", n_iter=1000, random_state=42)\n",
        "model.fit(X_train)\n",
        "\n",
        "#Predict hidden states for the test set\n",
        "predicted_states_train = model.predict(X_train)\n",
        "\n",
        "print(\"Transition matrix:\\n\", model.transmat_)  #Probability of moving between states\n",
        "print(\"\\nMeans of each state:\\n\", model.means_)  #Average values for each feature in each state\n",
        "print(\"\\nCovariances:\\n\", model.covars_)  #Variability in each state\n",
        "\n",
        "#Code written colaboratively and taken from Chat GPT-4o:\n",
        "#Prompt: I asked Chatgpt why the accuracy for the GaussianHMM was so bad before, and it suggested not using the discrete mapping we had initially which was interefering with our accuracy\n",
        "#Map each hidden state to the most common label in training data\n",
        "state_to_label = {}\n",
        "for state in range(n_states):\n",
        "    state_to_label[state] = mode(Y_train[predicted_states_train == state]).mode[0]\n",
        "\n",
        "#Convert hidden states to predicted weather labels\n",
        "mapped_predictions = np.array([state_to_label[state] for state in predicted_states_train])"
      ]
    },
    {
      "cell_type": "code",
      "execution_count": 7,
      "metadata": {},
      "outputs": [
        {
          "name": "stdout",
          "output_type": "stream",
          "text": [
            "Confusion Matrix:\n",
            " [[  0   0  44   0   0]\n",
            " [  0 485  36   0   0]\n",
            " [  0   1 508   0   0]\n",
            " [  0  18   0   0   0]\n",
            " [  0   0  76   0   0]]\n",
            "\n",
            "Accuracy Score: 0.8501712328767124\n"
          ]
        }
      ],
      "source": [
        "#Training data summary\n",
        "conf_matrix_train = confusion_matrix(Y_train, mapped_predictions)\n",
        "accuracy_train = accuracy_score(Y_train, mapped_predictions)\n",
        "\n",
        "print(\"Confusion Matrix:\\n\", conf_matrix_train)\n",
        "print(\"\\nAccuracy Score:\", accuracy_train)"
      ]
    },
    {
      "cell_type": "markdown",
      "metadata": {},
      "source": [
        "## Model Testing"
      ]
    },
    {
      "cell_type": "code",
      "execution_count": 8,
      "metadata": {},
      "outputs": [
        {
          "name": "stdout",
          "output_type": "stream",
          "text": [
            "Confusion Matrix:\n",
            " [[  0   0   9   0   0]\n",
            " [  0 112   8   0   0]\n",
            " [  0   0 131   0   0]\n",
            " [  0   8   0   0   0]\n",
            " [  0   0  25   0   0]]\n",
            "\n",
            "Accuracy Score: 0.8293515358361775\n"
          ]
        }
      ],
      "source": [
        "#Now use the model on the test set\n",
        "predicted_states_test = model.predict(X_test)\n",
        "mapped_predictions_test = np.array([state_to_label[state] for state in predicted_states_test])\n",
        "\n",
        "#Test data summary\n",
        "conf_matrix_test = confusion_matrix(Y_test, mapped_predictions_test)\n",
        "accuracy_test = accuracy_score(Y_test, mapped_predictions_test)\n",
        "\n",
        "print(\"Confusion Matrix:\\n\", conf_matrix_test)\n",
        "print(\"\\nAccuracy Score:\", accuracy_test)"
      ]
    },
    {
      "cell_type": "code",
      "execution_count": null,
      "metadata": {},
      "outputs": [],
      "source": []
    }
  ],
  "metadata": {
    "colab": {
      "authorship_tag": "ABX9TyPVmzQV2X7PHIa0CnJipai2",
      "provenance": []
    },
    "kernelspec": {
      "display_name": "tensorflow",
      "language": "python",
      "name": "python3"
    },
    "language_info": {
      "codemirror_mode": {
        "name": "ipython",
        "version": 3
      },
      "file_extension": ".py",
      "mimetype": "text/x-python",
      "name": "python",
      "nbconvert_exporter": "python",
      "pygments_lexer": "ipython3",
      "version": "3.9.16"
    }
  },
  "nbformat": 4,
  "nbformat_minor": 0
}
