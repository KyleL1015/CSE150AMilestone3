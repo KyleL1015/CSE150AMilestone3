{
  "cells": [
    {
      "cell_type": "markdown",
      "metadata": {},
      "source": [
        "# CSE150A Milestone 3: Multinomial HMM for Weather Prediction"
      ]
    },
    {
      "cell_type": "markdown",
      "metadata": {},
      "source": [
        "## Importing and Preprocessing Data"
      ]
    },
    {
      "cell_type": "code",
      "execution_count": null,
      "metadata": {
        "id": "PgRxL1RzV4_P"
      },
      "outputs": [],
      "source": [
        "import pandas as pd\n",
        "import numpy as np\n",
        "from hmmlearn import hmm\n",
        "from sklearn.model_selection import train_test_split\n",
        "\n",
        "df = pd.read_csv('seattle-weather.csv')"
      ]
    },
    {
      "cell_type": "code",
      "execution_count": null,
      "metadata": {
        "id": "tuTIueMWWOuf"
      },
      "outputs": [],
      "source": [
        "def discretize_precipitation(p):\n",
        "    if p == 0: return 0 #'none' or no precipitation\n",
        "    elif p <= 5: return 1 #'light' or light precipitation\n",
        "    else: return 2 #'heavy' or heavy precipitation\n",
        "\n",
        "def discretize_temp(t):\n",
        "    if t <= 0: return 0 #'freezing' or below freezing temps\n",
        "    elif t <= 5: return 1 #'cold' or very cold temps\n",
        "    elif t <= 15: return 2 #'cool' or cool temps\n",
        "    else: return 3 #'warm' or warm/hot temps\n",
        "\n",
        "def discretize_wind(w):\n",
        "    if w <= 2: return 0 #'calm' or calm winds\n",
        "    elif w <= 5: return 1 #'moderate' or moderate winds\n",
        "    else: return 2 #'strong' or strong winds\n",
        "\n",
        "df['precip_cat'] = df['precipitation'].apply(discretize_precipitation)\n",
        "df['temp_max_cat'] = df['temp_max'].apply(discretize_temp)\n",
        "df['temp_min_cat'] = df['temp_min'].apply(discretize_temp)\n",
        "df['wind_cat'] = df['wind'].apply(discretize_wind)"
      ]
    },
    {
      "cell_type": "code",
      "execution_count": null,
      "metadata": {
        "colab": {
          "base_uri": "https://localhost:8080/",
          "height": 206
        },
        "id": "IR6Y5Qt0WTCn",
        "outputId": "8b09511e-6b97-4189-8466-4ded1c693caa"
      },
      "outputs": [],
      "source": [
        "df.head()"
      ]
    },
    {
      "cell_type": "code",
      "execution_count": null,
      "metadata": {
        "id": "N-Z94q_0WTiN"
      },
      "outputs": [],
      "source": [
        "#dropping the numerical values for precipitation, temp_max, temp_min, wind for easier processing\n",
        "df.drop(['precipitation', 'temp_max', 'temp_min', 'wind', 'date'], axis=1, inplace=True)\n",
        "df = df.dropna()"
      ]
    },
    {
      "cell_type": "code",
      "execution_count": null,
      "metadata": {
        "colab": {
          "base_uri": "https://localhost:8080/",
          "height": 206
        },
        "id": "HYUAIFBbWvl8",
        "outputId": "dbb2ff52-31a7-47c3-dec6-545738c078d7"
      },
      "outputs": [],
      "source": [
        "df.head()"
      ]
    },
    {
      "cell_type": "code",
      "execution_count": null,
      "metadata": {
        "id": "Qcs7Yj3AWwV9"
      },
      "outputs": [],
      "source": [
        "#getting the hidden states for this model (the weather)\n",
        "weather_states = df.weather.unique().tolist()\n",
        "#maps for evidence\n",
        "precip_map = {0: 'none', 1: 'light', 2: 'heavy'}\n",
        "temp_map = {0: 'freezing', 1: 'cold', 2: 'cool', 3: 'warm'}\n",
        "wind_map = {0: 'calm', 1: 'moderate', 2: 'strong'}"
      ]
    },
    {
      "cell_type": "code",
      "execution_count": null,
      "metadata": {
        "colab": {
          "base_uri": "https://localhost:8080/"
        },
        "id": "whibhfLbXQxz",
        "outputId": "46554f1f-d2c4-4c20-af80-bc8bb03f8289"
      },
      "outputs": [],
      "source": [
        "weather_states"
      ]
    },
    {
      "cell_type": "markdown",
      "metadata": {},
      "source": [
        "## Model Training"
      ]
    },
    {
      "cell_type": "code",
      "execution_count": null,
      "metadata": {
        "id": "vDkPlmK1XtV6"
      },
      "outputs": [],
      "source": [
        "# Code written colaboratively and taken from Chat GPT-4o\n",
        "#Get a single feature vector and reshape\n",
        "X = df[['precip_cat', 'temp_max_cat', 'temp_min_cat', 'wind_cat']].values #observation vector\n",
        "X = X.reshape(-1, 1)\n",
        "Y = df['weather'].values\n",
        "\n",
        "df.drop(['weather'], axis = 1, inplace = True)\n",
        "\n",
        "#split training and test data\n",
        "X_train, X_test ,Y_train, Y_test = train_test_split(X, Y, test_size = 0.2, random_state = 42)\n",
        "\n",
        "model = hmm.MultinomialHMM(n_components = 5, n_iter = 1000)\n",
        "\n",
        "model.fit(X_train)\n",
        "\n",
        "# To see the learned parameters (emission and transition probabilities)\n",
        "print(\"Transition matrix:\")\n",
        "print(model.transmat_)\n",
        "\n",
        "print(\"Emission matrix:\")\n",
        "print(model.emissionprob_)"
      ]
    },
    {
      "cell_type": "code",
      "execution_count": null,
      "metadata": {},
      "outputs": [],
      "source": []
    }
  ],
  "metadata": {
    "colab": {
      "authorship_tag": "ABX9TyPVmzQV2X7PHIa0CnJipai2",
      "provenance": []
    },
    "kernelspec": {
      "display_name": "tensorflow",
      "language": "python",
      "name": "python3"
    },
    "language_info": {
      "codemirror_mode": {
        "name": "ipython",
        "version": 3
      },
      "file_extension": ".py",
      "mimetype": "text/x-python",
      "name": "python",
      "nbconvert_exporter": "python",
      "pygments_lexer": "ipython3",
      "version": "3.9.16"
    }
  },
  "nbformat": 4,
  "nbformat_minor": 0
}
